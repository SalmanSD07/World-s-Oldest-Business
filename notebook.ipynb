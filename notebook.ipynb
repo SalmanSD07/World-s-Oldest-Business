{
 "cells": [
  {
   "cell_type": "markdown",
   "id": "a72c3591-e237-49ba-b20f-a739b27b5a7e",
   "metadata": {},
   "source": [
    "<center><img src=\"MKn_Staffelter_Hof.jpeg\" alt=\"Picture of old business\"</center>\n",
    "<!--Image Credit: Martin Kraft https://commons.wikimedia.org/wiki/File:MKn_Staffelter_Hof.jpg -->"
   ]
  },
  {
   "cell_type": "markdown",
   "id": "3093f28a-1efc-4811-899f-278d698bd09b",
   "metadata": {},
   "source": [
    "Staffelter Hof Winery is Germany's oldest business, established in 862 under the Carolingian dynasty. It has continued to serve customers through dramatic changes in Europe, such as the Holy Roman Empire, the Ottoman Empire, and both world wars. What characteristics enable a business to stand the test of time?\n",
    "\n",
    "To help answer this question, BusinessFinancing.co.uk researched the oldest company still in business in **almost** every country and compiled the results into several CSV files. This dataset has been cleaned.\n",
    "\n",
    "Having useful information in different files is a common problem. While it's better to keep different types of data separate for data storage, you'll want all the data in one place for analysis. You'll use joining and data manipulation to work with this data and better understand the world's oldest businesses.\n",
    "\n",
    "## The Data\n",
    "`data/businesses.csv` and `data/new_businesses.csv`\n",
    "|Column|Description|\n",
    "|------|-----------|\n",
    "|`business`|Name of the business (varchar)|\n",
    "|`year_founded`|Year the business was founded (int)|\n",
    "|`category_code`|Code for the business category (varchar)|\n",
    "|`country_code`|ISO 3166-1 three-letter country code (char)|\n",
    "\n",
    "`data/countries.csv`\n",
    "|Column|Description|\n",
    "|------|-----------|\n",
    "|`country_code`|ISO 3166-1 three-letter country code (varchar)|\n",
    "|`country`|Name of the country (varchar)|\n",
    "|`continent`|Name of the continent the country exists in (varchar)|\n",
    "\n",
    "`data/categories.csv`\n",
    "|Column|Description|\n",
    "|------|-----------|\n",
    "|`category_code`|Code for the business category (varchar)|\n",
    "|`category`|Description of the business category (varchar)|"
   ]
  },
  {
   "cell_type": "code",
   "execution_count": 1,
   "id": "113ca14a-42b7-4bee-bc8a-349e2b4368cf",
   "metadata": {
    "executionCancelledAt": null,
    "executionTime": 3645,
    "lastExecutedAt": 1724762649606,
    "lastExecutedByKernel": "768f944a-67d4-4a7b-ad40-accfa56416a0",
    "lastScheduledRunId": null,
    "lastSuccessfullyExecutedCode": "# Import necessary libraries\nimport pandas as pd\n\n# Load the data\nbusinesses = pd.read_csv(\"data/businesses.csv\")\nnew_businesses = pd.read_csv(\"data/new_businesses.csv\")\ncountries = pd.read_csv(\"data/countries.csv\")\ncategories = pd.read_csv(\"data/categories.csv\")"
   },
   "outputs": [],
   "source": [
    "# Import necessary libraries\n",
    "import pandas as pd\n",
    "\n",
    "# Load the data\n",
    "businesses = pd.read_csv(\"data/businesses.csv\")\n",
    "new_businesses = pd.read_csv(\"data/new_businesses.csv\")\n",
    "countries = pd.read_csv(\"data/countries.csv\")\n",
    "categories = pd.read_csv(\"data/categories.csv\")"
   ]
  },
  {
   "cell_type": "code",
   "execution_count": 2,
   "id": "185be0b1-702c-49d0-87ba-a3d9098686fc",
   "metadata": {
    "executionCancelledAt": null,
    "executionTime": 59,
    "lastExecutedAt": 1724762649667,
    "lastExecutedByKernel": "768f944a-67d4-4a7b-ad40-accfa56416a0",
    "lastScheduledRunId": null,
    "lastSuccessfullyExecutedCode": "# Start coding here!\n# Use as many cells as you like\n# What is the oldest business on every continent?\n\n# Start by merging the businesses and countries datasets into one\nbusinesses_countries = businesses.merge(countries, on=\"country_code\")\n\n# Create a new DataFrame that lists only the continent and oldest year_founded\ncontinent = businesses_countries.groupby(\"continent\").agg({\"year_founded\":\"min\"})\n\n# Merge this continent DataFrame with businesses_countries\nmerged_continent = continent.merge(businesses_countries, on=[\"continent\", \"year_founded\"])\n\n# Subset the continent DataFrame so that only the four columns of interest are included, saving it as oldest_business_continent\noldest_business_continent = merged_continent[[\"continent\", \"country\", \"business\", \"year_founded\"]]\n\n# View the result\nprint(oldest_business_continent)\n\n# How many countries per continent lack data on the oldest businesses? \n# Does including the `new_businesses` data change this?\n\n# Add the data in new_businesses to the existing businesses\nall_businesses = pd.concat([new_businesses, businesses])\n\n# Perform a new merge between the businesses and the countries data. Use additional parameters this time to perform an outer merge and create an indicator column to better see the missing values. An outer merge combines two DataFrames based on a key column and includes all rows from both DataFrames\nnew_all_countries = all_businesses.merge(countries, on=\"country_code\", how=\"outer\",  indicator=True)\n\n# Filter to find countries with missing business data\nnew_missing_countries = new_all_countries[new_all_countries[\"_merge\"] != \"both\"]\n\n# Group by continent and create a \"count_missing\" column\ncount_missing = new_missing_countries.groupby(\"continent\").agg({\"country\":\"count\"})\ncount_missing.columns = [\"count_missing\"]\n\n# View the results\nprint(count_missing)\n\n# Which business categories are best suited to last over the course of centuries?\n\n# Start by merging the businesses and categories data into one DataFrame\nbusinesses_categories = businesses.merge(categories, on=\"category_code\")\n\n# Merge all businesses, countries, and categories together\nbusinesses_categories_countries = businesses_categories.merge(countries, on=\"country_code\")\n\n# Create the oldest by continent and category DataFrame\noldest_by_continent_category = businesses_categories_countries.groupby([\"continent\", \"category\"]).agg({\"year_founded\":\"min\"})\noldest_by_continent_category.head()",
    "outputsMetadata": {
     "0": {
      "height": 332,
      "type": "stream"
     },
     "1": {
      "height": 196,
      "type": "dataFrame"
     }
    }
   },
   "outputs": [
    {
     "name": "stdout",
     "output_type": "stream",
     "text": [
      "       continent    country                     business  year_founded\n",
      "0         Africa  Mauritius               Mauritius Post          1772\n",
      "1           Asia      Japan                   Kongō Gumi           578\n",
      "2         Europe    Austria  St. Peter Stifts Kulinarium           803\n",
      "3  North America     Mexico  La Casa de Moneda de México          1534\n",
      "4        Oceania  Australia               Australia Post          1809\n",
      "5  South America       Peru      Casa Nacional de Moneda          1565\n",
      "               count_missing\n",
      "continent                   \n",
      "Africa                     3\n",
      "Asia                       7\n",
      "Europe                     2\n",
      "North America              5\n",
      "Oceania                   10\n",
      "South America              3\n"
     ]
    },
    {
     "data": {
      "application/com.datacamp.data-table.v2+json": {
       "table": {
        "data": {
         "category": [
          "Agriculture",
          "Aviation & Transport",
          "Banking & Finance",
          "Distillers, Vintners, & Breweries",
          "Energy"
         ],
         "continent": [
          "Africa",
          "Africa",
          "Africa",
          "Africa",
          "Africa"
         ],
         "year_founded": [
          1947,
          1854,
          1892,
          1933,
          1968
         ]
        },
        "schema": {
         "fields": [
          {
           "name": "continent",
           "type": "string"
          },
          {
           "name": "category",
           "type": "string"
          },
          {
           "name": "year_founded",
           "type": "integer"
          }
         ],
         "pandas_version": "1.4.0",
         "primaryKey": [
          "continent",
          "category"
         ]
        }
       },
       "total_rows": 5,
       "truncation_type": null
      },
      "text/html": [
       "<div>\n",
       "<style scoped>\n",
       "    .dataframe tbody tr th:only-of-type {\n",
       "        vertical-align: middle;\n",
       "    }\n",
       "\n",
       "    .dataframe tbody tr th {\n",
       "        vertical-align: top;\n",
       "    }\n",
       "\n",
       "    .dataframe thead th {\n",
       "        text-align: right;\n",
       "    }\n",
       "</style>\n",
       "<table border=\"1\" class=\"dataframe\">\n",
       "  <thead>\n",
       "    <tr style=\"text-align: right;\">\n",
       "      <th></th>\n",
       "      <th></th>\n",
       "      <th>year_founded</th>\n",
       "    </tr>\n",
       "    <tr>\n",
       "      <th>continent</th>\n",
       "      <th>category</th>\n",
       "      <th></th>\n",
       "    </tr>\n",
       "  </thead>\n",
       "  <tbody>\n",
       "    <tr>\n",
       "      <th rowspan=\"5\" valign=\"top\">Africa</th>\n",
       "      <th>Agriculture</th>\n",
       "      <td>1947</td>\n",
       "    </tr>\n",
       "    <tr>\n",
       "      <th>Aviation &amp; Transport</th>\n",
       "      <td>1854</td>\n",
       "    </tr>\n",
       "    <tr>\n",
       "      <th>Banking &amp; Finance</th>\n",
       "      <td>1892</td>\n",
       "    </tr>\n",
       "    <tr>\n",
       "      <th>Distillers, Vintners, &amp; Breweries</th>\n",
       "      <td>1933</td>\n",
       "    </tr>\n",
       "    <tr>\n",
       "      <th>Energy</th>\n",
       "      <td>1968</td>\n",
       "    </tr>\n",
       "  </tbody>\n",
       "</table>\n",
       "</div>"
      ],
      "text/plain": [
       "                                             year_founded\n",
       "continent category                                       \n",
       "Africa    Agriculture                                1947\n",
       "          Aviation & Transport                       1854\n",
       "          Banking & Finance                          1892\n",
       "          Distillers, Vintners, & Breweries          1933\n",
       "          Energy                                     1968"
      ]
     },
     "execution_count": 2,
     "metadata": {},
     "output_type": "execute_result"
    }
   ],
   "source": [
    "# Start coding here!\n",
    "# Use as many cells as you like\n",
    "# What is the oldest business on every continent?\n",
    "\n",
    "# Start by merging the businesses and countries datasets into one\n",
    "businesses_countries = businesses.merge(countries, on=\"country_code\")\n",
    "\n",
    "# Create a new DataFrame that lists only the continent and oldest year_founded\n",
    "continent = businesses_countries.groupby(\"continent\").agg({\"year_founded\":\"min\"})\n",
    "\n",
    "# Merge this continent DataFrame with businesses_countries\n",
    "merged_continent = continent.merge(businesses_countries, on=[\"continent\", \"year_founded\"])\n",
    "\n",
    "# Subset the continent DataFrame so that only the four columns of interest are included, saving it as oldest_business_continent\n",
    "oldest_business_continent = merged_continent[[\"continent\", \"country\", \"business\", \"year_founded\"]]\n",
    "\n",
    "# View the result\n",
    "print(oldest_business_continent)\n",
    "\n",
    "# How many countries per continent lack data on the oldest businesses? \n",
    "# Does including the `new_businesses` data change this?\n",
    "\n",
    "# Add the data in new_businesses to the existing businesses\n",
    "all_businesses = pd.concat([new_businesses, businesses])\n",
    "\n",
    "# Perform a new merge between the businesses and the countries data. Use additional parameters this time to perform an outer merge and create an indicator column to better see the missing values. An outer merge combines two DataFrames based on a key column and includes all rows from both DataFrames\n",
    "new_all_countries = all_businesses.merge(countries, on=\"country_code\", how=\"outer\",  indicator=True)\n",
    "\n",
    "# Filter to find countries with missing business data\n",
    "new_missing_countries = new_all_countries[new_all_countries[\"_merge\"] != \"both\"]\n",
    "\n",
    "# Group by continent and create a \"count_missing\" column\n",
    "count_missing = new_missing_countries.groupby(\"continent\").agg({\"country\":\"count\"})\n",
    "count_missing.columns = [\"count_missing\"]\n",
    "\n",
    "# View the results\n",
    "print(count_missing)\n",
    "\n",
    "# Which business categories are best suited to last over the course of centuries?\n",
    "\n",
    "# Start by merging the businesses and categories data into one DataFrame\n",
    "businesses_categories = businesses.merge(categories, on=\"category_code\")\n",
    "\n",
    "# Merge all businesses, countries, and categories together\n",
    "businesses_categories_countries = businesses_categories.merge(countries, on=\"country_code\")\n",
    "\n",
    "# Create the oldest by continent and category DataFrame\n",
    "oldest_by_continent_category = businesses_categories_countries.groupby([\"continent\", \"category\"]).agg({\"year_founded\":\"min\"})\n",
    "oldest_by_continent_category.head()"
   ]
  }
 ],
 "metadata": {
  "editor": "DataLab",
  "kernelspec": {
   "display_name": "Python 3 (ipykernel)",
   "language": "python",
   "name": "python3"
  },
  "language_info": {
   "codemirror_mode": {
    "name": "ipython",
    "version": 3
   },
   "file_extension": ".py",
   "mimetype": "text/x-python",
   "name": "python",
   "nbconvert_exporter": "python",
   "pygments_lexer": "ipython3",
   "version": "3.12.4"
  }
 },
 "nbformat": 4,
 "nbformat_minor": 5
}
